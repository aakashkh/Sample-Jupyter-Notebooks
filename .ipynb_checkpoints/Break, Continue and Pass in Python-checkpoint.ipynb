{
 "cells": [
  {
   "cell_type": "markdown",
   "metadata": {},
   "source": [
    "### Break v/s Continue"
   ]
  },
  {
   "cell_type": "code",
   "execution_count": 1,
   "metadata": {},
   "outputs": [
    {
     "name": "stdout",
     "output_type": "stream",
     "text": [
      "The loop will skipp the value when value of i is 6\n",
      "100\n",
      "101\n",
      "102\n",
      "103\n",
      "104\n",
      "105\n",
      "107\n",
      "108\n",
      "109\n"
     ]
    }
   ],
   "source": [
    "print(\"The loop will skipp the value when value of i is 6\")\n",
    "for i in range(0,10):\n",
    "    if i == 6:\n",
    "        continue\n",
    "    else:\n",
    "        print(i+100)"
   ]
  },
  {
   "cell_type": "code",
   "execution_count": 2,
   "metadata": {},
   "outputs": [
    {
     "name": "stdout",
     "output_type": "stream",
     "text": [
      "The loop will break when value of i is 6. No more further execution!\n",
      "100\n",
      "101\n",
      "102\n",
      "103\n",
      "104\n",
      "105\n"
     ]
    }
   ],
   "source": [
    "print(\"The loop will break when value of i is 6. No more further execution!\")\n",
    "for i in range(0,10):\n",
    "    if i == 6:\n",
    "        break\n",
    "    else:\n",
    "        print(i+100)"
   ]
  },
  {
   "cell_type": "markdown",
   "metadata": {},
   "source": [
    "### Continue vs Pass"
   ]
  },
  {
   "cell_type": "code",
   "execution_count": 3,
   "metadata": {},
   "outputs": [
    {
     "name": "stdout",
     "output_type": "stream",
     "text": [
      "When value of i is 6, it will start from next iteration i.e., behaves like a restart from next variable\n",
      "100\n",
      "0\n",
      "101\n",
      "1\n",
      "102\n",
      "2\n",
      "103\n",
      "3\n",
      "104\n",
      "4\n",
      "105\n",
      "5\n",
      "107\n",
      "7\n",
      "108\n",
      "8\n",
      "109\n",
      "9\n"
     ]
    }
   ],
   "source": [
    "print('When value of i is 6, it will start from next iteration i.e., behaves like a restart from next variable')\n",
    "for i in range(0,10):\n",
    "    if i==6:\n",
    "        continue\n",
    "    else:\n",
    "        print(100+i)\n",
    "    print(i)"
   ]
  },
  {
   "cell_type": "code",
   "execution_count": 4,
   "metadata": {},
   "outputs": [
    {
     "name": "stdout",
     "output_type": "stream",
     "text": [
      "When value of i is 6, it does nothing and move in sequentially manner, passes execution to next statement\n",
      "100\n",
      "0\n",
      "101\n",
      "1\n",
      "102\n",
      "2\n",
      "103\n",
      "3\n",
      "104\n",
      "4\n",
      "105\n",
      "5\n",
      "6\n",
      "107\n",
      "7\n",
      "108\n",
      "8\n",
      "109\n",
      "9\n"
     ]
    }
   ],
   "source": [
    "print('When value of i is 6, it does nothing and move in sequentially manner, passes execution to next statement')\n",
    "for i in range(0,10):\n",
    "    if i==6:\n",
    "        pass\n",
    "    else:\n",
    "        print(100+i)\n",
    "    print(i)"
   ]
  }
 ],
 "metadata": {
  "kernelspec": {
   "display_name": "Python 3",
   "language": "python",
   "name": "python3"
  },
  "language_info": {
   "codemirror_mode": {
    "name": "ipython",
    "version": 3
   },
   "file_extension": ".py",
   "mimetype": "text/x-python",
   "name": "python",
   "nbconvert_exporter": "python",
   "pygments_lexer": "ipython3",
   "version": "3.7.3"
  }
 },
 "nbformat": 4,
 "nbformat_minor": 2
}
