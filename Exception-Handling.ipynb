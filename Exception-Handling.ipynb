{
 "cells": [
  {
   "cell_type": "markdown",
   "metadata": {},
   "source": [
    "We'll discuss the followwing:\n",
    "* Try and Except clause \n",
    "* Else\n",
    "* Finally"
   ]
  },
  {
   "cell_type": "markdown",
   "metadata": {},
   "source": [
    "### Try and Except"
   ]
  },
  {
   "cell_type": "markdown",
   "metadata": {},
   "source": [
    "The following statement will throw an error as string can't be parsed into integers."
   ]
  },
  {
   "cell_type": "code",
   "execution_count": 2,
   "metadata": {},
   "outputs": [
    {
     "name": "stdout",
     "output_type": "stream",
     "text": [
      "Converting string to int\n"
     ]
    },
    {
     "ename": "ValueError",
     "evalue": "invalid literal for int() with base 10: 'hello world'",
     "output_type": "error",
     "traceback": [
      "\u001b[1;31m---------------------------------------------------------------------------\u001b[0m",
      "\u001b[1;31mValueError\u001b[0m                                Traceback (most recent call last)",
      "\u001b[1;32m<ipython-input-2-0017d7718fd0>\u001b[0m in \u001b[0;36m<module>\u001b[1;34m\u001b[0m\n\u001b[0;32m      1\u001b[0m \u001b[0mprint\u001b[0m\u001b[1;33m(\u001b[0m\u001b[1;34m\"Converting string to int\"\u001b[0m\u001b[1;33m)\u001b[0m\u001b[1;33m\u001b[0m\u001b[1;33m\u001b[0m\u001b[0m\n\u001b[1;32m----> 2\u001b[1;33m \u001b[0mprint\u001b[0m\u001b[1;33m(\u001b[0m\u001b[0mint\u001b[0m\u001b[1;33m(\u001b[0m\u001b[0mhello\u001b[0m\u001b[1;33m)\u001b[0m\u001b[1;33m)\u001b[0m\u001b[1;33m\u001b[0m\u001b[1;33m\u001b[0m\u001b[0m\n\u001b[0m\u001b[0;32m      3\u001b[0m \u001b[0mprint\u001b[0m\u001b[1;33m(\u001b[0m\u001b[1;34m\"Done!\"\u001b[0m\u001b[1;33m)\u001b[0m\u001b[1;33m\u001b[0m\u001b[1;33m\u001b[0m\u001b[0m\n",
      "\u001b[1;31mValueError\u001b[0m: invalid literal for int() with base 10: 'hello world'"
     ]
    }
   ],
   "source": [
    "hello = \"hello world\"\n",
    "print(\"Converting string to int\")\n",
    "print(int(hello))\n",
    "print(\"Done!\")"
   ]
  },
  {
   "cell_type": "markdown",
   "metadata": {},
   "source": [
    "We can catch the error created in above code execution, by using **try...except** clause in python."
   ]
  },
  {
   "cell_type": "code",
   "execution_count": 3,
   "metadata": {},
   "outputs": [
    {
     "name": "stdout",
     "output_type": "stream",
     "text": [
      "Converting string to int\n",
      "Done!\n"
     ]
    }
   ],
   "source": [
    "try:\n",
    "    print(\"Converting string to int\")\n",
    "    print(int(hello))\n",
    "except:\n",
    "    pass\n",
    "print(\"Done!\")"
   ]
  },
  {
   "cell_type": "markdown",
   "metadata": {},
   "source": [
    "Multiple ways to catch the error and return as output to use in further executions."
   ]
  },
  {
   "cell_type": "code",
   "execution_count": 4,
   "metadata": {},
   "outputs": [
    {
     "name": "stdout",
     "output_type": "stream",
     "text": [
      "Converting string to int\n",
      "Found Error\n",
      "Done!\n"
     ]
    }
   ],
   "source": [
    "try:\n",
    "    print(\"Converting string to int\")\n",
    "    print(int(hello))\n",
    "except:\n",
    "    print('Found Error')\n",
    "print(\"Done!\")"
   ]
  },
  {
   "cell_type": "code",
   "execution_count": 5,
   "metadata": {},
   "outputs": [
    {
     "name": "stdout",
     "output_type": "stream",
     "text": [
      "Converting string to int\n",
      "Found Error - invalid literal for int() with base 10: 'hello world'\n",
      "The type of error us - <class 'ValueError'>\n",
      "The error arguments are - (\"invalid literal for int() with base 10: 'hello world'\",)\n",
      "Done!\n"
     ]
    }
   ],
   "source": [
    "try:\n",
    "    print(\"Converting string to int\")\n",
    "    print(int(hello))\n",
    "except Exception as e:\n",
    "    print('Found Error - {0}'.format(e))\n",
    "    print(\"The type of error us - {0}\".format(type(e)))\n",
    "    print(\"The error arguments are - {0}\".format(e.args))\n",
    "    \n",
    "print(\"Done!\")"
   ]
  },
  {
   "cell_type": "markdown",
   "metadata": {},
   "source": [
    "We can also catch multiple errors, for example, in this example there are two errors, firstly type error and another is value error."
   ]
  },
  {
   "cell_type": "code",
   "execution_count": 6,
   "metadata": {},
   "outputs": [
    {
     "name": "stdout",
     "output_type": "stream",
     "text": [
      "Converting string to int\n"
     ]
    },
    {
     "ename": "TypeError",
     "evalue": "can only concatenate str (not \"int\") to str",
     "output_type": "error",
     "traceback": [
      "\u001b[1;31m---------------------------------------------------------------------------\u001b[0m",
      "\u001b[1;31mTypeError\u001b[0m                                 Traceback (most recent call last)",
      "\u001b[1;32m<ipython-input-6-6b78f81ffba1>\u001b[0m in \u001b[0;36m<module>\u001b[1;34m\u001b[0m\n\u001b[0;32m      1\u001b[0m \u001b[1;32mtry\u001b[0m\u001b[1;33m:\u001b[0m\u001b[1;33m\u001b[0m\u001b[1;33m\u001b[0m\u001b[0m\n\u001b[0;32m      2\u001b[0m     \u001b[0mprint\u001b[0m\u001b[1;33m(\u001b[0m\u001b[1;34m\"Converting string to int\"\u001b[0m\u001b[1;33m)\u001b[0m\u001b[1;33m\u001b[0m\u001b[1;33m\u001b[0m\u001b[0m\n\u001b[1;32m----> 3\u001b[1;33m     \u001b[0mprint\u001b[0m\u001b[1;33m(\u001b[0m\u001b[0mhello\u001b[0m \u001b[1;33m+\u001b[0m\u001b[1;36m30\u001b[0m\u001b[1;33m)\u001b[0m\u001b[1;33m\u001b[0m\u001b[1;33m\u001b[0m\u001b[0m\n\u001b[0m\u001b[0;32m      4\u001b[0m     \u001b[0mprint\u001b[0m\u001b[1;33m(\u001b[0m\u001b[0mint\u001b[0m\u001b[1;33m(\u001b[0m\u001b[0mhello\u001b[0m\u001b[1;33m)\u001b[0m\u001b[1;33m)\u001b[0m\u001b[1;33m\u001b[0m\u001b[1;33m\u001b[0m\u001b[0m\n\u001b[0;32m      5\u001b[0m \u001b[1;32mexcept\u001b[0m \u001b[0mValueError\u001b[0m\u001b[1;33m:\u001b[0m\u001b[1;33m\u001b[0m\u001b[1;33m\u001b[0m\u001b[0m\n",
      "\u001b[1;31mTypeError\u001b[0m: can only concatenate str (not \"int\") to str"
     ]
    }
   ],
   "source": [
    "try:\n",
    "    print(\"Converting string to int\")\n",
    "    print(hello +30)\n",
    "    print(int(hello))\n",
    "except ValueError:\n",
    "    print(\"Value Error found\")\n",
    "print(\"Done!\")"
   ]
  },
  {
   "cell_type": "code",
   "execution_count": 7,
   "metadata": {},
   "outputs": [
    {
     "name": "stdout",
     "output_type": "stream",
     "text": [
      "Converting string to int\n",
      "Type Error found\n",
      "Done!\n"
     ]
    }
   ],
   "source": [
    "try:\n",
    "    print(\"Converting string to int\")\n",
    "    print(hello +30)\n",
    "    print(int(hello))\n",
    "except ValueError :\n",
    "    print(\"Value Error found\")\n",
    "except TypeError:\n",
    "    print(\"Type Error found\")\n",
    "print(\"Done!\")"
   ]
  },
  {
   "cell_type": "markdown",
   "metadata": {},
   "source": [
    "If any other error appears before the errors which are declared in exception statement, the code execution will failed, for example - "
   ]
  },
  {
   "cell_type": "code",
   "execution_count": 8,
   "metadata": {},
   "outputs": [
    {
     "name": "stdout",
     "output_type": "stream",
     "text": [
      "Converting string to int\n"
     ]
    },
    {
     "ename": "ZeroDivisionError",
     "evalue": "division by zero",
     "output_type": "error",
     "traceback": [
      "\u001b[1;31m---------------------------------------------------------------------------\u001b[0m",
      "\u001b[1;31mZeroDivisionError\u001b[0m                         Traceback (most recent call last)",
      "\u001b[1;32m<ipython-input-8-50842d051dc1>\u001b[0m in \u001b[0;36m<module>\u001b[1;34m\u001b[0m\n\u001b[0;32m      1\u001b[0m \u001b[1;32mtry\u001b[0m\u001b[1;33m:\u001b[0m\u001b[1;33m\u001b[0m\u001b[1;33m\u001b[0m\u001b[0m\n\u001b[0;32m      2\u001b[0m     \u001b[0mprint\u001b[0m\u001b[1;33m(\u001b[0m\u001b[1;34m\"Converting string to int\"\u001b[0m\u001b[1;33m)\u001b[0m\u001b[1;33m\u001b[0m\u001b[1;33m\u001b[0m\u001b[0m\n\u001b[1;32m----> 3\u001b[1;33m     \u001b[0mprint\u001b[0m\u001b[1;33m(\u001b[0m\u001b[1;36m1\u001b[0m\u001b[1;33m/\u001b[0m\u001b[1;36m0\u001b[0m\u001b[1;33m)\u001b[0m\u001b[1;33m\u001b[0m\u001b[1;33m\u001b[0m\u001b[0m\n\u001b[0m\u001b[0;32m      4\u001b[0m     \u001b[0mprint\u001b[0m\u001b[1;33m(\u001b[0m\u001b[0mhello\u001b[0m \u001b[1;33m+\u001b[0m\u001b[1;36m30\u001b[0m\u001b[1;33m)\u001b[0m\u001b[1;33m\u001b[0m\u001b[1;33m\u001b[0m\u001b[0m\n\u001b[0;32m      5\u001b[0m     \u001b[0mprint\u001b[0m\u001b[1;33m(\u001b[0m\u001b[0mint\u001b[0m\u001b[1;33m(\u001b[0m\u001b[0mhello\u001b[0m\u001b[1;33m)\u001b[0m\u001b[1;33m)\u001b[0m\u001b[1;33m\u001b[0m\u001b[1;33m\u001b[0m\u001b[0m\n",
      "\u001b[1;31mZeroDivisionError\u001b[0m: division by zero"
     ]
    }
   ],
   "source": [
    "try:\n",
    "    print(\"Converting string to int\")\n",
    "    print(1/0)\n",
    "    print(hello +30)\n",
    "    print(int(hello))\n",
    "except ValueError :\n",
    "    print(\"Value Error found\")\n",
    "except TypeError:\n",
    "    print(\"Type Error\")\n",
    "print(\"Done!\")"
   ]
  },
  {
   "cell_type": "markdown",
   "metadata": {},
   "source": [
    "The above error can be captured as - "
   ]
  },
  {
   "cell_type": "code",
   "execution_count": 9,
   "metadata": {},
   "outputs": [
    {
     "name": "stdout",
     "output_type": "stream",
     "text": [
      "Converting string to int\n",
      "Another error occured, Not a value or type error.\n",
      "Done!\n"
     ]
    }
   ],
   "source": [
    "try:\n",
    "    print(\"Converting string to int\")\n",
    "    print(1/0)\n",
    "    print(hello +30)\n",
    "    print(int(hello))\n",
    "except (ValueError, TypeError) as error:\n",
    "    print(\"Value or Type Error - {0}\".format(error))\n",
    "except Exception:\n",
    "    print(\"Another error occured, Not a value or type error.\")\n",
    "print(\"Done!\")"
   ]
  },
  {
   "cell_type": "markdown",
   "metadata": {},
   "source": [
    "### Else"
   ]
  },
  {
   "cell_type": "markdown",
   "metadata": {},
   "source": [
    "Else will only exectue if there are no errors found in the try block"
   ]
  },
  {
   "cell_type": "code",
   "execution_count": 10,
   "metadata": {},
   "outputs": [
    {
     "name": "stdout",
     "output_type": "stream",
     "text": [
      "60\n",
      "30\n",
      "Executed successfully\n",
      "Done!\n"
     ]
    }
   ],
   "source": [
    "hello =30\n",
    "try:\n",
    "    print(hello +30)\n",
    "    print(int(hello))\n",
    "except (ValueError, TypeError) as error:\n",
    "    print(\"Value or Type Error - {0}\".format(error))\n",
    "except Exception:\n",
    "    print(\"Another error\")\n",
    "else:\n",
    "    print(\"Executed successfully\")\n",
    "print(\"Done!\")"
   ]
  },
  {
   "cell_type": "code",
   "execution_count": 11,
   "metadata": {},
   "outputs": [
    {
     "name": "stdout",
     "output_type": "stream",
     "text": [
      "IOError occured !!\n"
     ]
    }
   ],
   "source": [
    "# Situation - 1\n",
    "# any_file.txt is not available, which will cause IOError and hence code statements in else block won`t execute.\n",
    "try:\n",
    "    input_file = open('any_file.txt', mode = 'r')\n",
    "except IOError:\n",
    "    print(\"IOError occured !!\")\n",
    "else:\n",
    "    for line in input_file:\n",
    "        print(line)\n",
    "    input_file.close()"
   ]
  },
  {
   "cell_type": "code",
   "execution_count": 12,
   "metadata": {},
   "outputs": [
    {
     "name": "stdout",
     "output_type": "stream",
     "text": [
      "Hello World 1!\n",
      "Hello World 2!\n",
      "Hello World 3!\n",
      "Hello World 4!\n",
      "Hello World 5!"
     ]
    }
   ],
   "source": [
    "# Situation - 2\n",
    "# any_file.txt is available, which will not cause any error and hence code statements in else block will execute.\n",
    "try:\n",
    "    input_file = open('any_file.txt', mode = 'r')\n",
    "except IOError:\n",
    "    print(\"IOError occured !!\")\n",
    "else:\n",
    "    for line in input_file:\n",
    "        print(line, end = '')\n",
    "    input_file.close()"
   ]
  },
  {
   "cell_type": "markdown",
   "metadata": {},
   "source": [
    "### Finally"
   ]
  },
  {
   "cell_type": "markdown",
   "metadata": {},
   "source": [
    "Code staements in finally block will always execute, no matter how many errors occured/or not occured in try except block."
   ]
  },
  {
   "cell_type": "code",
   "execution_count": 13,
   "metadata": {},
   "outputs": [
    {
     "name": "stdout",
     "output_type": "stream",
     "text": [
      "IOError occured !!\n",
      "\n",
      "\n",
      "File is Closed\n"
     ]
    }
   ],
   "source": [
    "''' any_file.txt is not available, which will cause IOError and hence \n",
    "code statements in else block won`t execute but \n",
    "code block in finally statement will execute.\n",
    "'''\n",
    "try:\n",
    "    input_file = open('any_file.txt', mode = 'r')\n",
    "except IOError:\n",
    "    print(\"IOError occured !!\")\n",
    "else:\n",
    "    for line in input_file:\n",
    "        print(line, end = '')\n",
    "finally:    \n",
    "    input_file.close()\n",
    "    print(\"\\n\")\n",
    "    print(\"File is Closed\")"
   ]
  }
 ],
 "metadata": {
  "kernelspec": {
   "display_name": "Python 3",
   "language": "python",
   "name": "python3"
  },
  "language_info": {
   "codemirror_mode": {
    "name": "ipython",
    "version": 3
   },
   "file_extension": ".py",
   "mimetype": "text/x-python",
   "name": "python",
   "nbconvert_exporter": "python",
   "pygments_lexer": "ipython3",
   "version": "3.7.3"
  }
 },
 "nbformat": 4,
 "nbformat_minor": 2
}
